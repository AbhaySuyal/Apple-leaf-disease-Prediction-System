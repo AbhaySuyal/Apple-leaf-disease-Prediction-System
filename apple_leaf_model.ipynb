{
 "cells": [
  {
   "cell_type": "markdown",
   "metadata": {},
   "source": [
    "Importing Libraries"
   ]
  },
  {
   "cell_type": "code",
   "execution_count": 22,
   "metadata": {},
   "outputs": [
    {
     "data": {
      "text/plain": [
       "True"
      ]
     },
     "execution_count": 22,
     "metadata": {},
     "output_type": "execute_result"
    }
   ],
   "source": [
    "import tensorflow as tf\n",
    "import matplotlib.pyplot as plt\n",
    "import pandas as pd\n",
    "import seaborn as sns\n",
    "\n",
    "\n",
    "tf.config.list_physical_devices('GPU')\n",
    "tf.test.is_gpu_available()"
   ]
  },
  {
   "cell_type": "markdown",
   "metadata": {},
   "source": [
    "Data Preprocessing"
   ]
  },
  {
   "cell_type": "code",
   "execution_count": 23,
   "metadata": {},
   "outputs": [
    {
     "name": "stdout",
     "output_type": "stream",
     "text": [
      "Found 21126 files belonging to 14 classes.\n"
     ]
    }
   ],
   "source": [
    "training_set=tf.keras.utils.image_dataset_from_directory(\n",
    "    './train',\n",
    "    labels=\"inferred\",\n",
    "    label_mode=\"categorical\",\n",
    "    class_names=None,\n",
    "    color_mode=\"rgb\",\n",
    "    batch_size=8,\n",
    "    image_size=(360, 360),\n",
    "    shuffle=True,\n",
    "    seed=None,\n",
    "    validation_split=None,\n",
    "    subset=None,\n",
    "    interpolation=\"bilinear\",\n",
    "    follow_links=False,\n",
    "    crop_to_aspect_ratio=False,\n",
    ")"
   ]
  },
  {
   "cell_type": "markdown",
   "metadata": {},
   "source": [
    "Validation Image Preprocessing"
   ]
  },
  {
   "cell_type": "code",
   "execution_count": 24,
   "metadata": {},
   "outputs": [
    {
     "name": "stdout",
     "output_type": "stream",
     "text": [
      "Found 5277 files belonging to 14 classes.\n"
     ]
    }
   ],
   "source": [
    "validation_set=tf.keras.utils.image_dataset_from_directory(\n",
    "    './valid',\n",
    "    labels=\"inferred\",\n",
    "    label_mode=\"categorical\",\n",
    "    class_names=None,\n",
    "    color_mode=\"rgb\",\n",
    "    batch_size=8,\n",
    "    image_size=(360, 360),\n",
    "    shuffle=True,\n",
    "    seed=None,\n",
    "    validation_split=None,\n",
    "    subset=None,\n",
    "    interpolation=\"bilinear\",\n",
    "    follow_links=False,\n",
    "    crop_to_aspect_ratio=False,\n",
    ")"
   ]
  },
  {
   "cell_type": "code",
   "execution_count": 25,
   "metadata": {},
   "outputs": [
    {
     "data": {
      "text/plain": [
       "<BatchDataset element_spec=(TensorSpec(shape=(None, 360, 360, 3), dtype=tf.float32, name=None), TensorSpec(shape=(None, 14), dtype=tf.float32, name=None))>"
      ]
     },
     "execution_count": 25,
     "metadata": {},
     "output_type": "execute_result"
    }
   ],
   "source": [
    "training_set"
   ]
  },
  {
   "cell_type": "code",
   "execution_count": 26,
   "metadata": {},
   "outputs": [
    {
     "name": "stdout",
     "output_type": "stream",
     "text": [
      "tf.Tensor(\n",
      "[[[[139.05556  169.05556  169.05556 ]\n",
      "   [142.       182.33333  181.16667 ]\n",
      "   [146.43024  188.43024  186.43024 ]\n",
      "   ...\n",
      "   [205.27783  216.27783  148.36357 ]\n",
      "   [193.86845  202.86845  146.29068 ]\n",
      "   [175.46614  187.46614  141.35481 ]]\n",
      "\n",
      "  [[142.68889  172.68889  172.68889 ]\n",
      "   [141.73334  183.06667  176.90001 ]\n",
      "   [149.       192.       185.      ]\n",
      "   ...\n",
      "   [205.17596  215.17596  152.17596 ]\n",
      "   [195.16675  204.16675  151.16675 ]\n",
      "   [181.09091  193.09091  146.97958 ]]\n",
      "\n",
      "  [[140.21915  172.3858   169.33025 ]\n",
      "   [149.05556  185.05556  181.05556 ]\n",
      "   [145.       182.       174.      ]\n",
      "   ...\n",
      "   [202.27783  216.27783  155.      ]\n",
      "   [192.9537   204.9537   156.62021 ]\n",
      "   [179.16699  194.05566  151.05566 ]]\n",
      "\n",
      "  ...\n",
      "\n",
      "  [[ 64.94444  111.94444   41.944443]\n",
      "   [ 52.546387 101.54639   35.546387]\n",
      "   [ 76.48443  118.48443   54.48443 ]\n",
      "   ...\n",
      "   [ 50.5402    81.7067    34.984535]\n",
      "   [ 45.157467  82.82397   32.416977]\n",
      "   [ 41.06186   81.06186   28.061861]]\n",
      "\n",
      "  [[ 59.653675 105.65367   40.653675]\n",
      "   [ 74.527916 119.527916  54.527912]\n",
      "   [ 79.270294 124.270294  59.270294]\n",
      "   ...\n",
      "   [ 47.164722  79.16472   29.16472 ]\n",
      "   [ 43.166748  80.16675   28.166748]\n",
      "   [ 40.202244  79.20225   26.202244]]\n",
      "\n",
      "  [[ 71.05556  117.05556   52.055557]\n",
      "   [ 69.687386 114.687386  49.687378]\n",
      "   [ 69.344376 114.344376  49.34437 ]\n",
      "   ...\n",
      "   [ 51.371666  84.371666  29.371668]\n",
      "   [ 47.422363  85.42236   28.422363]\n",
      "   [ 45.944336  84.944336  27.944336]]]\n",
      "\n",
      "\n",
      " [[[ 55.75926  154.75926  149.75926 ]\n",
      "   [ 61.055553 156.05556  152.05556 ]\n",
      "   [ 68.09259  163.09259  159.09259 ]\n",
      "   ...\n",
      "   [ 63.0555   136.61116  116.333336]\n",
      "   [ 61.777996 133.27776  113.444496]\n",
      "   [ 66.88867  134.       115.944336]]\n",
      "\n",
      "  [[ 53.88889  152.88889  147.88889 ]\n",
      "   [ 60.833336 155.83333  151.83333 ]\n",
      "   [ 59.       154.       150.      ]\n",
      "   ...\n",
      "   [ 64.       137.55566  117.27783 ]\n",
      "   [ 66.500244 138.       118.16675 ]\n",
      "   [ 66.944336 134.05566  116.      ]]\n",
      "\n",
      "  [[ 56.685184 151.68518  145.68518 ]\n",
      "   [ 58.944447 153.94444  149.94444 ]\n",
      "   [ 56.240738 151.24074  147.24074 ]\n",
      "   ...\n",
      "   [ 69.90739  141.9074   121.90739 ]\n",
      "   [ 71.       143.       123.      ]\n",
      "   [ 68.       140.       120.      ]]\n",
      "\n",
      "  ...\n",
      "\n",
      "  [[ 44.444607  99.44461   34.444607]\n",
      "   [ 46.94442  101.94442   36.94442 ]\n",
      "   [ 50.759144 105.75914   40.759144]\n",
      "   ...\n",
      "   [ 73.963005 119.24084   90.24084 ]\n",
      "   [ 63.555855 104.555855  70.555855]\n",
      "   [ 60.61084   90.72217   52.777832]]\n",
      "\n",
      "  [[ 49.055557 104.05556   39.055557]\n",
      "   [ 47.166664 102.166664  37.166664]\n",
      "   [ 49.       104.        39.      ]\n",
      "   ...\n",
      "   [ 67.72217  113.        84.      ]\n",
      "   [ 68.333496 109.333496  75.333496]\n",
      "   [ 65.055664  95.16699   57.222656]]\n",
      "\n",
      "  [[ 50.426094 105.426094  40.426094]\n",
      "   [ 43.27779  100.27779   32.27779 ]\n",
      "   [ 48.74078  105.740776  37.74078 ]\n",
      "   ...\n",
      "   [ 72.259094 115.81476   86.09259 ]\n",
      "   [ 64.66675  105.66675   65.66675 ]\n",
      "   [ 61.98145   89.148445  54.092777]]]\n",
      "\n",
      "\n",
      " [[[ 97.422226 134.2111    67.844444]\n",
      "   [101.122215 136.7       75.077774]\n",
      "   [ 97.33642  138.77469   72.      ]\n",
      "   ...\n",
      "   [153.44434  190.44434  138.44434 ]\n",
      "   [157.64818  194.64818  142.64818 ]\n",
      "   [158.04391  193.29893  150.7889  ]]\n",
      "\n",
      "  [[ 94.4426   130.4426    69.4426  ]\n",
      "   [107.29444  137.9611    79.12778 ]\n",
      "   [101.80926  138.08704   73.2537  ]\n",
      "   ...\n",
      "   [151.36667  188.36667  136.36667 ]\n",
      "   [154.17764  191.17764  139.17764 ]\n",
      "   [156.       192.       145.88867 ]]\n",
      "\n",
      "  [[ 99.546295 134.5463    76.546295]\n",
      "   [107.8426   141.84259   81.8426  ]\n",
      "   [110.45988  144.45987   84.45988 ]\n",
      "   ...\n",
      "   [156.23749  191.23749  135.23749 ]\n",
      "   [160.0463   195.0463   139.0463  ]\n",
      "   [157.9999   191.9999   141.9999  ]]\n",
      "\n",
      "  ...\n",
      "\n",
      "  [[168.00299  176.00299  117.00298 ]\n",
      "   [180.00928  184.10205  123.055664]\n",
      "   [190.58029  189.02473  133.85806 ]\n",
      "   ...\n",
      "   [155.2933   194.2933   115.2933  ]\n",
      "   [159.22168  204.22168  121.64794 ]\n",
      "   [159.94434  203.88867  124.83301 ]]\n",
      "\n",
      "  [[169.15565  174.04454  118.1001  ]\n",
      "   [180.80559  179.80559  123.63891 ]\n",
      "   [195.09993  193.09993  142.09993 ]\n",
      "   ...\n",
      "   [149.54622  191.54622  109.54622 ]\n",
      "   [151.90015  193.90015  111.90015 ]\n",
      "   [162.53682  203.53682  127.42548 ]]\n",
      "\n",
      "  [[169.22223  174.11111  118.166664]\n",
      "   [183.16667  182.16667  128.16667 ]\n",
      "   [191.84747  189.84747  141.69496 ]\n",
      "   ...\n",
      "   [152.78084  189.78084  109.78084 ]\n",
      "   [156.32428  194.99078  114.15753 ]\n",
      "   [158.16727  199.16727  123.05595 ]]]\n",
      "\n",
      "\n",
      " ...\n",
      "\n",
      "\n",
      " [[[179.       185.       201.      ]\n",
      "   [179.       185.       201.      ]\n",
      "   [178.72223  184.72223  200.72223 ]\n",
      "   ...\n",
      "   [184.44446  188.44446  200.44446 ]\n",
      "   [186.3      190.3      202.3     ]\n",
      "   [188.       192.       204.      ]]\n",
      "\n",
      "  [[177.86667  183.86667  199.86667 ]\n",
      "   [177.86667  183.86667  199.86667 ]\n",
      "   [177.5889   183.5889   199.5889  ]\n",
      "   ...\n",
      "   [184.44446  188.44446  200.44446 ]\n",
      "   [185.80888  189.80888  201.80888 ]\n",
      "   [186.86667  190.86667  202.86667 ]]\n",
      "\n",
      "  [[176.16667  182.16667  198.16667 ]\n",
      "   [176.16667  182.16667  198.16667 ]\n",
      "   [175.96605  181.96605  197.96605 ]\n",
      "   ...\n",
      "   [184.59877  188.59877  200.59877 ]\n",
      "   [185.1926   189.1926   201.1926  ]\n",
      "   [185.44444  189.44444  201.44444 ]]\n",
      "\n",
      "  ...\n",
      "\n",
      "  [[119.83331  115.83331  130.83331 ]\n",
      "   [120.87219  116.87219  131.8722  ]\n",
      "   [121.8981   117.8981   132.8981  ]\n",
      "   ...\n",
      "   [113.25622  106.25622  122.25622 ]\n",
      "   [115.6      108.6      124.6     ]\n",
      "   [117.111084 110.111084 126.111084]]\n",
      "\n",
      "  [[122.466675 118.466675 133.46667 ]\n",
      "   [122.78779  118.78779  133.78778 ]\n",
      "   [123.03334  119.03334  134.03334 ]\n",
      "   ...\n",
      "   [116.36855  109.36855  125.36855 ]\n",
      "   [117.65778  110.65778  126.65778 ]\n",
      "   [117.73334  110.73334  126.73334 ]]\n",
      "\n",
      "  [[127.       123.       138.      ]\n",
      "   [127.       123.       138.      ]\n",
      "   [127.       123.       138.      ]\n",
      "   ...\n",
      "   [119.611145 112.611145 128.61115 ]\n",
      "   [120.566666 113.566666 129.56667 ]\n",
      "   [120.       113.       129.      ]]]\n",
      "\n",
      "\n",
      " [[[255.       255.       229.42223 ]\n",
      "   [254.       255.       234.      ]\n",
      "   [253.       255.       233.      ]\n",
      "   ...\n",
      "   [216.       255.       110.      ]\n",
      "   [216.       255.       110.      ]\n",
      "   [218.       255.       108.055664]]\n",
      "\n",
      "  [[255.       255.       227.73334 ]\n",
      "   [254.       255.       234.      ]\n",
      "   [254.       255.       234.      ]\n",
      "   ...\n",
      "   [216.       255.       110.      ]\n",
      "   [217.83325  255.       109.333496]\n",
      "   [220.       254.       106.88867 ]]\n",
      "\n",
      "  [[250.00308  255.       216.      ]\n",
      "   [255.       255.       225.      ]\n",
      "   [255.       254.       229.55556 ]\n",
      "   ...\n",
      "   [220.       255.       109.      ]\n",
      "   [220.       255.       109.      ]\n",
      "   [222.       255.       109.      ]]\n",
      "\n",
      "  ...\n",
      "\n",
      "  [[ 81.11133  124.11133   32.11133 ]\n",
      "   [ 81.833664 124.833664  32.83366 ]\n",
      "   [ 80.58648  123.58648   31.586477]\n",
      "   ...\n",
      "   [189.1665   191.1665   154.1665  ]\n",
      "   [177.61133  181.27783  144.27783 ]\n",
      "   [170.       176.       140.      ]]\n",
      "\n",
      "  [[ 79.34633  122.34633   32.346325]\n",
      "   [ 84.07218  127.07218   37.072186]\n",
      "   [ 78.98706  121.98706   31.987062]\n",
      "   ...\n",
      "   [196.08887  198.08887  158.08887 ]\n",
      "   [186.839    188.839    148.839   ]\n",
      "   [175.19101  180.19101  139.19101 ]]\n",
      "\n",
      "  [[ 80.94444  123.94444   33.944443]\n",
      "   [ 80.33333  123.33333   33.333332]\n",
      "   [ 81.21118  124.21118   34.21118 ]\n",
      "   ...\n",
      "   [202.85547  204.85547  164.85547 ]\n",
      "   [194.3335   196.3335   156.3335  ]\n",
      "   [184.68896  189.68896  148.68896 ]]]\n",
      "\n",
      "\n",
      " [[[102.       100.       103.      ]\n",
      "   [113.333336 111.333336 114.333336]\n",
      "   [118.388885 116.388885 119.388885]\n",
      "   ...\n",
      "   [100.61102   98.61102  101.61102 ]\n",
      "   [ 96.566666  94.566666  97.566666]\n",
      "   [ 96.        94.        97.      ]]\n",
      "\n",
      "  [[ 99.73333   97.73333  100.73333 ]\n",
      "   [108.49778  106.49778  109.49778 ]\n",
      "   [112.21851  110.21851  113.21851 ]\n",
      "   ...\n",
      "   [102.65734  100.65734  103.65734 ]\n",
      "   [100.136665  98.136665 101.136665]\n",
      "   [100.53333   98.53333  101.53333 ]]\n",
      "\n",
      "  [[ 97.72222   95.72222   98.72222 ]\n",
      "   [102.79074  100.79074  103.79074 ]\n",
      "   [104.70679  102.70679  105.70679 ]\n",
      "   ...\n",
      "   [102.401184 100.401184 103.401184]\n",
      "   [101.07963   99.07963  102.07963 ]\n",
      "   [102.05556  100.05556  103.05556 ]]\n",
      "\n",
      "  ...\n",
      "\n",
      "  [[147.55554  146.55554  152.55554 ]\n",
      "   [147.24074  146.24074  152.24074 ]\n",
      "   [147.12346  146.12346  152.12346 ]\n",
      "   ...\n",
      "   [134.70985  133.70985  141.70985 ]\n",
      "   [133.72408  132.72408  140.72408 ]\n",
      "   [133.       132.       140.      ]]\n",
      "\n",
      "  [[147.86667  146.86667  152.86667 ]\n",
      "   [148.35777  147.35777  153.35777 ]\n",
      "   [149.01111  148.01111  154.01111 ]\n",
      "   ...\n",
      "   [133.17036  132.17036  140.17036 ]\n",
      "   [133.26334  132.26334  140.26334 ]\n",
      "   [133.43333  132.43333  140.43333 ]]\n",
      "\n",
      "  [[149.       148.       154.      ]\n",
      "   [150.13333  149.13333  155.13333 ]\n",
      "   [151.27777  150.27777  156.27777 ]\n",
      "   ...\n",
      "   [131.72223  130.72223  138.72223 ]\n",
      "   [132.86667  131.86667  139.86667 ]\n",
      "   [134.       133.       141.      ]]]], shape=(8, 360, 360, 3), dtype=float32) (8, 360, 360, 3)\n",
      "tf.Tensor(\n",
      "[[0. 0. 0. 0. 0. 0. 0. 0. 0. 0. 0. 1. 0. 0.]\n",
      " [0. 0. 0. 0. 0. 1. 0. 0. 0. 0. 0. 0. 0. 0.]\n",
      " [0. 0. 1. 0. 0. 0. 0. 0. 0. 0. 0. 0. 0. 0.]\n",
      " [0. 1. 0. 0. 0. 0. 0. 0. 0. 0. 0. 0. 0. 0.]\n",
      " [0. 0. 0. 0. 0. 1. 0. 0. 0. 0. 0. 0. 0. 0.]\n",
      " [0. 0. 0. 0. 0. 1. 0. 0. 0. 0. 0. 0. 0. 0.]\n",
      " [0. 0. 0. 0. 0. 1. 0. 0. 0. 0. 0. 0. 0. 0.]\n",
      " [0. 0. 0. 0. 0. 1. 0. 0. 0. 0. 0. 0. 0. 0.]], shape=(8, 14), dtype=float32) (8, 14)\n"
     ]
    }
   ],
   "source": [
    "for x,y in training_set:\n",
    "    print(x,x.shape)\n",
    "    print(y,y.shape)\n",
    "    break"
   ]
  },
  {
   "cell_type": "code",
   "execution_count": 27,
   "metadata": {},
   "outputs": [
    {
     "data": {
      "text/plain": [
       "<BatchDataset element_spec=(TensorSpec(shape=(None, 360, 360, 3), dtype=tf.float32, name=None), TensorSpec(shape=(None, 14), dtype=tf.float32, name=None))>"
      ]
     },
     "execution_count": 27,
     "metadata": {},
     "output_type": "execute_result"
    }
   ],
   "source": [
    "validation_set"
   ]
  },
  {
   "cell_type": "markdown",
   "metadata": {},
   "source": [
    "To avoid overfitting\n",
    "\n",
    "\n",
    "    1.  Choose small learning rate default 0.001 we are taking 0.0001\n",
    "    2.  There may be chance of Underfitting, so increase number of neuron\n",
    "    3.  Add more Convolution layer to extract more feature from images there may be possibilty that model unable to capture relevant\n",
    "        feature or  model is confusing due to lack of feature so feed with more feature"
   ]
  },
  {
   "cell_type": "markdown",
   "metadata": {},
   "source": [
    "Building Model"
   ]
  },
  {
   "cell_type": "code",
   "execution_count": 28,
   "metadata": {},
   "outputs": [],
   "source": [
    "import tensorflow as tf\n",
    "from tensorflow.keras.layers import Dense,Conv2D,MaxPool2D,Flatten,Dropout\n",
    "from tensorflow.keras.models import Sequential"
   ]
  },
  {
   "cell_type": "code",
   "execution_count": 29,
   "metadata": {},
   "outputs": [],
   "source": [
    "model=Sequential()"
   ]
  },
  {
   "cell_type": "markdown",
   "metadata": {},
   "source": [
    "Building Convolution Layer"
   ]
  },
  {
   "cell_type": "code",
   "execution_count": 30,
   "metadata": {},
   "outputs": [],
   "source": [
    "model.add(Conv2D(filters=32, kernel_size=3, padding='same', activation='relu', input_shape=[360, 360, 3]))   #activation='relu': This specifies the activation function used in this layer. 'relu' stands for Rectified Linear Unit, which is a common choice for hidden layers in neural networks due to its ability to introduce non-linearity into the model.\n",
    "model.add(Conv2D(filters=32, kernel_size=3, activation='relu'))\n",
    "model.add(MaxPool2D(pool_size=2, strides=2))"
   ]
  },
  {
   "cell_type": "code",
   "execution_count": 31,
   "metadata": {},
   "outputs": [],
   "source": [
    "model.add(Conv2D(filters=64, kernel_size=3, padding='same', activation='relu'))\n",
    "model.add(Conv2D(filters=64, kernel_size=3, activation='relu'))\n",
    "model.add(MaxPool2D(pool_size=2, strides=2))"
   ]
  },
  {
   "cell_type": "code",
   "execution_count": 32,
   "metadata": {},
   "outputs": [],
   "source": [
    "model.add(Conv2D(filters=128, kernel_size=3, padding='same', activation='relu'))\n",
    "model.add(Conv2D(filters=128, kernel_size=3, activation='relu'))\n",
    "model.add(MaxPool2D(pool_size=2, strides=2))"
   ]
  },
  {
   "cell_type": "code",
   "execution_count": 33,
   "metadata": {},
   "outputs": [],
   "source": [
    "model.add(Conv2D(filters=256, kernel_size=3, padding='same', activation='relu'))\n",
    "model.add(Conv2D(filters=256, kernel_size=3, activation='relu'))\n",
    "model.add(MaxPool2D(pool_size=2, strides=2))"
   ]
  },
  {
   "cell_type": "code",
   "execution_count": 34,
   "metadata": {},
   "outputs": [],
   "source": [
    "model.add(Conv2D(filters=512, kernel_size=3, padding='same', activation='relu'))\n",
    "model.add(Conv2D(filters=512, kernel_size=3, activation='relu'))\n",
    "model.add(MaxPool2D(pool_size=2, strides=2))"
   ]
  },
  {
   "cell_type": "code",
   "execution_count": 35,
   "metadata": {},
   "outputs": [],
   "source": [
    "model.add(Conv2D(filters=512, kernel_size=3, padding='same', activation='relu'))\n",
    "model.add(Conv2D(filters=512, kernel_size=3, activation='relu'))\n",
    "model.add(MaxPool2D(pool_size=2, strides=2))"
   ]
  },
  {
   "cell_type": "code",
   "execution_count": 36,
   "metadata": {},
   "outputs": [],
   "source": [
    "model.add(Flatten())\n",
    "model.add(Dropout(0.25))#To aviod overfitting"
   ]
  },
  {
   "cell_type": "markdown",
   "metadata": {},
   "source": [
    "Flatning"
   ]
  },
  {
   "cell_type": "code",
   "execution_count": 37,
   "metadata": {},
   "outputs": [],
   "source": [
    "model.add(Dense(units=1700, activation='relu'))"
   ]
  },
  {
   "cell_type": "code",
   "execution_count": 38,
   "metadata": {},
   "outputs": [],
   "source": [
    "model.add(Dropout(0.4))"
   ]
  },
  {
   "cell_type": "markdown",
   "metadata": {},
   "source": [
    "Output Layer"
   ]
  },
  {
   "cell_type": "code",
   "execution_count": 39,
   "metadata": {},
   "outputs": [],
   "source": [
    "model.add(Dense(units=14, activation='softmax'))"
   ]
  },
  {
   "cell_type": "markdown",
   "metadata": {},
   "source": [
    "Compiling Model"
   ]
  },
  {
   "cell_type": "code",
   "execution_count": 40,
   "metadata": {},
   "outputs": [],
   "source": [
    "model.compile(loss='categorical_crossentropy', \n",
    "              optimizer=tf.keras.optimizers.Adam(learning_rate=0.0001), \n",
    "              metrics=['accuracy'])"
   ]
  },
  {
   "cell_type": "code",
   "execution_count": 41,
   "metadata": {},
   "outputs": [
    {
     "name": "stdout",
     "output_type": "stream",
     "text": [
      "Model: \"sequential_1\"\n",
      "_________________________________________________________________\n",
      " Layer (type)                Output Shape              Param #   \n",
      "=================================================================\n",
      " conv2d_12 (Conv2D)          (None, 360, 360, 32)      896       \n",
      "                                                                 \n",
      " conv2d_13 (Conv2D)          (None, 358, 358, 32)      9248      \n",
      "                                                                 \n",
      " max_pooling2d_6 (MaxPooling  (None, 179, 179, 32)     0         \n",
      " 2D)                                                             \n",
      "                                                                 \n",
      " conv2d_14 (Conv2D)          (None, 179, 179, 64)      18496     \n",
      "                                                                 \n",
      " conv2d_15 (Conv2D)          (None, 177, 177, 64)      36928     \n",
      "                                                                 \n",
      " max_pooling2d_7 (MaxPooling  (None, 88, 88, 64)       0         \n",
      " 2D)                                                             \n",
      "                                                                 \n",
      " conv2d_16 (Conv2D)          (None, 88, 88, 128)       73856     \n",
      "                                                                 \n",
      " conv2d_17 (Conv2D)          (None, 86, 86, 128)       147584    \n",
      "                                                                 \n",
      " max_pooling2d_8 (MaxPooling  (None, 43, 43, 128)      0         \n",
      " 2D)                                                             \n",
      "                                                                 \n",
      " conv2d_18 (Conv2D)          (None, 43, 43, 256)       295168    \n",
      "                                                                 \n",
      " conv2d_19 (Conv2D)          (None, 41, 41, 256)       590080    \n",
      "                                                                 \n",
      " max_pooling2d_9 (MaxPooling  (None, 20, 20, 256)      0         \n",
      " 2D)                                                             \n",
      "                                                                 \n",
      " conv2d_20 (Conv2D)          (None, 20, 20, 512)       1180160   \n",
      "                                                                 \n",
      " conv2d_21 (Conv2D)          (None, 18, 18, 512)       2359808   \n",
      "                                                                 \n",
      " max_pooling2d_10 (MaxPoolin  (None, 9, 9, 512)        0         \n",
      " g2D)                                                            \n",
      "                                                                 \n",
      " conv2d_22 (Conv2D)          (None, 9, 9, 512)         2359808   \n",
      "                                                                 \n",
      " conv2d_23 (Conv2D)          (None, 7, 7, 512)         2359808   \n",
      "                                                                 \n",
      " max_pooling2d_11 (MaxPoolin  (None, 3, 3, 512)        0         \n",
      " g2D)                                                            \n",
      "                                                                 \n",
      " flatten_1 (Flatten)         (None, 4608)              0         \n",
      "                                                                 \n",
      " dropout_2 (Dropout)         (None, 4608)              0         \n",
      "                                                                 \n",
      " dense_2 (Dense)             (None, 1700)              7835300   \n",
      "                                                                 \n",
      " dropout_3 (Dropout)         (None, 1700)              0         \n",
      "                                                                 \n",
      " dense_3 (Dense)             (None, 14)                23814     \n",
      "                                                                 \n",
      "=================================================================\n",
      "Total params: 17,290,954\n",
      "Trainable params: 17,290,954\n",
      "Non-trainable params: 0\n",
      "_________________________________________________________________\n"
     ]
    }
   ],
   "source": [
    "model.summary()"
   ]
  },
  {
   "cell_type": "markdown",
   "metadata": {},
   "source": [
    "# Model Training"
   ]
  },
  {
   "cell_type": "code",
   "execution_count": 42,
   "metadata": {},
   "outputs": [
    {
     "name": "stdout",
     "output_type": "stream",
     "text": [
      "Epoch 1/50\n"
     ]
    },
    {
     "name": "stdout",
     "output_type": "stream",
     "text": [
      "2641/2641 [==============================] - 504s 190ms/step - loss: 1.6721 - accuracy: 0.4013 - val_loss: 1.1361 - val_accuracy: 0.5738\n",
      "Epoch 2/50\n",
      "2641/2641 [==============================] - 503s 190ms/step - loss: 0.7480 - accuracy: 0.7564 - val_loss: 0.7155 - val_accuracy: 0.7828\n",
      "Epoch 3/50\n",
      "2641/2641 [==============================] - 504s 191ms/step - loss: 0.5468 - accuracy: 0.8314 - val_loss: 0.5170 - val_accuracy: 0.8414\n",
      "Epoch 4/50\n",
      "2641/2641 [==============================] - 502s 190ms/step - loss: 0.4645 - accuracy: 0.8571 - val_loss: 0.4889 - val_accuracy: 0.8594\n",
      "Epoch 5/50\n",
      "2641/2641 [==============================] - 501s 190ms/step - loss: 0.4142 - accuracy: 0.8703 - val_loss: 0.5588 - val_accuracy: 0.8516\n",
      "Epoch 6/50\n",
      "2641/2641 [==============================] - 500s 189ms/step - loss: 0.3606 - accuracy: 0.8837 - val_loss: 0.5863 - val_accuracy: 0.8346\n",
      "Epoch 7/50\n",
      "2641/2641 [==============================] - 504s 191ms/step - loss: 0.3182 - accuracy: 0.8962 - val_loss: 0.5167 - val_accuracy: 0.8641\n",
      "Epoch 8/50\n",
      "2641/2641 [==============================] - 502s 190ms/step - loss: 0.2751 - accuracy: 0.9073 - val_loss: 0.5167 - val_accuracy: 0.8658\n",
      "Epoch 9/50\n",
      "2641/2641 [==============================] - 502s 190ms/step - loss: 0.2238 - accuracy: 0.9260 - val_loss: 0.5688 - val_accuracy: 0.8677\n",
      "Epoch 10/50\n",
      "2641/2641 [==============================] - 504s 191ms/step - loss: 0.1955 - accuracy: 0.9334 - val_loss: 0.5570 - val_accuracy: 0.8715\n",
      "Epoch 11/50\n",
      "2641/2641 [==============================] - 502s 190ms/step - loss: 0.1590 - accuracy: 0.9461 - val_loss: 0.6952 - val_accuracy: 0.8653\n",
      "Epoch 12/50\n",
      "2641/2641 [==============================] - 502s 190ms/step - loss: 0.1278 - accuracy: 0.9574 - val_loss: 0.6370 - val_accuracy: 0.8727\n",
      "Epoch 13/50\n",
      "2641/2641 [==============================] - 502s 190ms/step - loss: 0.1101 - accuracy: 0.9632 - val_loss: 0.6634 - val_accuracy: 0.8681\n",
      "Epoch 14/50\n",
      "2641/2641 [==============================] - 502s 190ms/step - loss: 0.0986 - accuracy: 0.9690 - val_loss: 0.7145 - val_accuracy: 0.8795\n",
      "Epoch 15/50\n",
      "2641/2641 [==============================] - 502s 190ms/step - loss: 0.0921 - accuracy: 0.9699 - val_loss: 0.9014 - val_accuracy: 0.8607\n",
      "Epoch 16/50\n",
      "2641/2641 [==============================] - 502s 190ms/step - loss: 0.0833 - accuracy: 0.9734 - val_loss: 0.9371 - val_accuracy: 0.8655\n",
      "Epoch 17/50\n",
      "2641/2641 [==============================] - 502s 190ms/step - loss: 0.0808 - accuracy: 0.9754 - val_loss: 0.8749 - val_accuracy: 0.8588\n",
      "Epoch 18/50\n",
      "2641/2641 [==============================] - 503s 190ms/step - loss: 0.0740 - accuracy: 0.9754 - val_loss: 0.8948 - val_accuracy: 0.8747\n",
      "Epoch 19/50\n",
      "2641/2641 [==============================] - ETA: 0s - loss: 0.0760 - accuracy: 0.9761Restoring model weights from the end of the best epoch: 14.\n",
      "2641/2641 [==============================] - 502s 190ms/step - loss: 0.0760 - accuracy: 0.9761 - val_loss: 0.7616 - val_accuracy: 0.8740\n",
      "Epoch 19: early stopping\n"
     ]
    }
   ],
   "source": [
    "# to stop model training at a curtain condition\n",
    "from keras.callbacks import EarlyStopping\n",
    "\n",
    "# Instantiate the EarlyStopping callback\n",
    "early_stopping = EarlyStopping(monitor='val_accuracy', patience=5, verbose=1, restore_best_weights=True)\n",
    "\n",
    "# Train your model\n",
    "history = model.fit(x=training_set, validation_data=validation_set, epochs=50, callbacks=[early_stopping])"
   ]
  },
  {
   "cell_type": "markdown",
   "metadata": {},
   "source": [
    "# Model Evalution\n",
    "    Model Evalution on training set"
   ]
  },
  {
   "cell_type": "code",
   "execution_count": 43,
   "metadata": {},
   "outputs": [
    {
     "name": "stdout",
     "output_type": "stream",
     "text": [
      "2641/2641 [==============================] - 163s 61ms/step - loss: 0.0942 - accuracy: 0.9700\n"
     ]
    }
   ],
   "source": [
    "train_loss,train_acc=model.evaluate(training_set)"
   ]
  },
  {
   "cell_type": "code",
   "execution_count": 44,
   "metadata": {},
   "outputs": [
    {
     "name": "stdout",
     "output_type": "stream",
     "text": [
      "0.09421837329864502 0.9700369238853455\n"
     ]
    }
   ],
   "source": [
    "print(train_loss,train_acc)"
   ]
  },
  {
   "cell_type": "markdown",
   "metadata": {},
   "source": [
    "    Model Evalution on validation set"
   ]
  },
  {
   "cell_type": "code",
   "execution_count": 45,
   "metadata": {},
   "outputs": [
    {
     "name": "stdout",
     "output_type": "stream",
     "text": [
      "660/660 [==============================] - 41s 61ms/step - loss: 0.7145 - accuracy: 0.8795\n"
     ]
    }
   ],
   "source": [
    "val_loss,val_acc=model.evaluate(validation_set)"
   ]
  },
  {
   "cell_type": "code",
   "execution_count": 46,
   "metadata": {},
   "outputs": [
    {
     "name": "stdout",
     "output_type": "stream",
     "text": [
      "0.7144642472267151 0.8794769644737244\n"
     ]
    }
   ],
   "source": [
    "print(val_loss,val_acc)"
   ]
  },
  {
   "cell_type": "markdown",
   "metadata": {},
   "source": [
    "# Saving Model"
   ]
  },
  {
   "cell_type": "code",
   "execution_count": 47,
   "metadata": {},
   "outputs": [],
   "source": [
    "model.save(\"trained_model11.h5\")"
   ]
  },
  {
   "cell_type": "markdown",
   "metadata": {},
   "source": [
    "why use keras //more compressed file"
   ]
  },
  {
   "cell_type": "code",
   "execution_count": 48,
   "metadata": {},
   "outputs": [],
   "source": [
    "model.save(\"trained_model.keras\")"
   ]
  },
  {
   "cell_type": "code",
   "execution_count": 49,
   "metadata": {},
   "outputs": [
    {
     "data": {
      "text/plain": [
       "{'loss': [1.6721022129058838,\n",
       "  0.7480489015579224,\n",
       "  0.5468349456787109,\n",
       "  0.4645066261291504,\n",
       "  0.4141790270805359,\n",
       "  0.3606494069099426,\n",
       "  0.3182440996170044,\n",
       "  0.2751178741455078,\n",
       "  0.22384506464004517,\n",
       "  0.1954752653837204,\n",
       "  0.15895967185497284,\n",
       "  0.12778736650943756,\n",
       "  0.11005128175020218,\n",
       "  0.09861449897289276,\n",
       "  0.09205324202775955,\n",
       "  0.08327522873878479,\n",
       "  0.08081047981977463,\n",
       "  0.07395338267087936,\n",
       "  0.07598170638084412],\n",
       " 'accuracy': [0.4012591242790222,\n",
       "  0.7563665509223938,\n",
       "  0.8313925862312317,\n",
       "  0.8571428656578064,\n",
       "  0.870254635810852,\n",
       "  0.8836504817008972,\n",
       "  0.8961942791938782,\n",
       "  0.9073179960250854,\n",
       "  0.926015317440033,\n",
       "  0.9333522915840149,\n",
       "  0.9461327195167542,\n",
       "  0.9573984742164612,\n",
       "  0.9632206559181213,\n",
       "  0.9689955711364746,\n",
       "  0.9698949456214905,\n",
       "  0.9733977317810059,\n",
       "  0.9753857851028442,\n",
       "  0.9754331111907959,\n",
       "  0.9760957956314087],\n",
       " 'val_loss': [1.1360541582107544,\n",
       "  0.7154526710510254,\n",
       "  0.5169567465782166,\n",
       "  0.4889463484287262,\n",
       "  0.5587981343269348,\n",
       "  0.5862565040588379,\n",
       "  0.5167309045791626,\n",
       "  0.5167068839073181,\n",
       "  0.568815290927887,\n",
       "  0.5569647550582886,\n",
       "  0.6951826810836792,\n",
       "  0.6370314359664917,\n",
       "  0.663387656211853,\n",
       "  0.7144637703895569,\n",
       "  0.9013828039169312,\n",
       "  0.9371494054794312,\n",
       "  0.8749470710754395,\n",
       "  0.8947753310203552,\n",
       "  0.761583685874939],\n",
       " 'val_accuracy': [0.573810875415802,\n",
       "  0.7828311324119568,\n",
       "  0.841387152671814,\n",
       "  0.8593897819519043,\n",
       "  0.8516202569007874,\n",
       "  0.8345651030540466,\n",
       "  0.8641273379325867,\n",
       "  0.8658328652381897,\n",
       "  0.8677278757095337,\n",
       "  0.8715178966522217,\n",
       "  0.865264356136322,\n",
       "  0.872654914855957,\n",
       "  0.8681069016456604,\n",
       "  0.8794769644737244,\n",
       "  0.8607163429260254,\n",
       "  0.865453839302063,\n",
       "  0.8588212728500366,\n",
       "  0.874739408493042,\n",
       "  0.8739814162254333]}"
      ]
     },
     "execution_count": 49,
     "metadata": {},
     "output_type": "execute_result"
    }
   ],
   "source": [
    "history.history"
   ]
  },
  {
   "cell_type": "markdown",
   "metadata": {},
   "source": [
    "# Recording History\n"
   ]
  },
  {
   "cell_type": "code",
   "execution_count": 50,
   "metadata": {},
   "outputs": [],
   "source": [
    "import json\n",
    "with open(\"training_hist.json\",\"w\") as f:\n",
    "    json.dump(history.history,f)  #store everything which is genrated by the command \"training_history.history\" on file \"training_hist.json\""
   ]
  },
  {
   "cell_type": "markdown",
   "metadata": {},
   "source": [
    "# Accuracy Visualition\n"
   ]
  },
  {
   "cell_type": "code",
   "execution_count": 53,
   "metadata": {},
   "outputs": [
    {
     "data": {
      "image/png": "[encoded data removed]",
      "text/plain": [
       "<Figure size 640x480 with 1 Axes>"
      ]
     },
     "metadata": {},
     "output_type": "display_data"
    }
   ],
   "source": [
    "epochs =[i for i in range(1,20)]\n",
    "plt.plot(epochs,history.history['accuracy'],color='grey',label='Training Accuracy')\n",
    "plt.plot(epochs,history.history['val_accuracy'],color='black',label='Validation Accuracy')\n",
    "plt.xlabel(\"No. of Epochs\")\n",
    "plt.ylabel(\"Accuracy Result\")\n",
    "plt.title(\"Visualization of Accuracy Result\")\n",
    "plt.legend()\n",
    "plt.show()"
   ]
  },
  {
   "cell_type": "markdown",
   "metadata": {},
   "source": [
    "# Some other metricis for model evaluation"
   ]
  },
  {
   "cell_type": "code",
   "execution_count": 54,
   "metadata": {},
   "outputs": [
    {
     "data": {
      "text/plain": [
       "['Apple___Black_rot',\n",
       " 'Apple___Cedar_apple_rust',\n",
       " 'complex',\n",
       " 'frog_eye_leaf_spot',\n",
       " 'frog_eye_leaf_spot_complex',\n",
       " 'healthy',\n",
       " 'powdery_mildew',\n",
       " 'powdery_mildew_complex',\n",
       " 'rust',\n",
       " 'rust_complex',\n",
       " 'rust_frog_eye_leaf_spot',\n",
       " 'scab',\n",
       " 'scab_frog_eye_leaf_spot',\n",
       " 'scab_frog_eye_leaf_spot_complex']"
      ]
     },
     "execution_count": 54,
     "metadata": {},
     "output_type": "execute_result"
    }
   ],
   "source": [
    "class_name=validation_set.class_names\n",
    "class_name"
   ]
  },
  {
   "cell_type": "code",
   "execution_count": 55,
   "metadata": {},
   "outputs": [
    {
     "name": "stdout",
     "output_type": "stream",
     "text": [
      "Found 5277 files belonging to 14 classes.\n"
     ]
    }
   ],
   "source": [
    "test_set=tf.keras.utils.image_dataset_from_directory(\n",
    "    './valid',\n",
    "    labels=\"inferred\",\n",
    "    label_mode=\"categorical\",\n",
    "    class_names=None,\n",
    "    color_mode=\"rgb\",\n",
    "    batch_size=8,\n",
    "    image_size=(360, 360),\n",
    "    shuffle=False,\n",
    "    seed=None,\n",
    "    validation_split=None,\n",
    "    subset=None,\n",
    "    interpolation=\"bilinear\",\n",
    "    follow_links=False,\n",
    "    crop_to_aspect_ratio=False,\n",
    ")"
   ]
  },
  {
   "cell_type": "code",
   "execution_count": 56,
   "metadata": {},
   "outputs": [
    {
     "name": "stdout",
     "output_type": "stream",
     "text": [
      "660/660 [==============================] - 40s 60ms/step\n"
     ]
    },
    {
     "data": {
      "text/plain": [
       "(array([[9.9999833e-01, 1.4464587e-07, 1.8091183e-09, ..., 7.7877479e-07,\n",
       "         2.0992297e-10, 8.8427521e-15],\n",
       "        [9.9999762e-01, 2.0352320e-06, 3.1666472e-11, ..., 4.0552865e-07,\n",
       "         4.1455178e-10, 4.9200702e-14],\n",
       "        [9.9952793e-01, 1.5976559e-05, 4.3300874e-09, ..., 4.4299354e-04,\n",
       "         2.1322109e-07, 1.1456695e-11],\n",
       "        ...,\n",
       "        [3.1295582e-05, 3.6891797e-03, 2.4705747e-01, ..., 6.8461794e-01,\n",
       "         9.7150328e-03, 2.7012553e-03],\n",
       "        [1.1550508e-09, 1.6911933e-06, 5.7855421e-01, ..., 3.8112576e-06,\n",
       "         5.9647416e-04, 8.0098136e-04],\n",
       "        [8.6687924e-04, 2.2169947e-06, 2.7131318e-04, ..., 1.1810613e-02,\n",
       "         9.8325944e-01, 3.9566858e-06]], dtype=float32),\n",
       " (5277, 14))"
      ]
     },
     "execution_count": 56,
     "metadata": {},
     "output_type": "execute_result"
    }
   ],
   "source": [
    "y_pred=model.predict(test_set)\n",
    "y_pred,y_pred.shape"
   ]
  },
  {
   "cell_type": "code",
   "execution_count": 57,
   "metadata": {},
   "outputs": [],
   "source": [
    "predicted_categories=tf.argmax(y_pred,axis=1) #extracting the maximum probablity of class"
   ]
  },
  {
   "cell_type": "code",
   "execution_count": 58,
   "metadata": {},
   "outputs": [
    {
     "data": {
      "text/plain": [
       "<tf.Tensor: shape=(5277,), dtype=int64, numpy=array([ 0,  0,  0, ..., 11,  2, 12], dtype=int64)>"
      ]
     },
     "execution_count": 58,
     "metadata": {},
     "output_type": "execute_result"
    }
   ],
   "source": [
    "predicted_categories"
   ]
  },
  {
   "cell_type": "code",
   "execution_count": 59,
   "metadata": {},
   "outputs": [
    {
     "data": {
      "text/plain": [
       "<tf.Tensor: shape=(5277, 14), dtype=float32, numpy=\n",
       "array([[1., 0., 0., ..., 0., 0., 0.],\n",
       "       [1., 0., 0., ..., 0., 0., 0.],\n",
       "       [1., 0., 0., ..., 0., 0., 0.],\n",
       "       ...,\n",
       "       [0., 0., 0., ..., 0., 0., 1.],\n",
       "       [0., 0., 0., ..., 0., 0., 1.],\n",
       "       [0., 0., 0., ..., 0., 0., 1.]], dtype=float32)>"
      ]
     },
     "execution_count": 59,
     "metadata": {},
     "output_type": "execute_result"
    }
   ],
   "source": [
    "true_categories=tf.concat([y for x,y in test_set],axis=0)\n",
    "true_categories"
   ]
  },
  {
   "cell_type": "code",
   "execution_count": 60,
   "metadata": {},
   "outputs": [
    {
     "data": {
      "text/plain": [
       "<tf.Tensor: shape=(5277,), dtype=int64, numpy=array([ 0,  0,  0, ..., 13, 13, 13], dtype=int64)>"
      ]
     },
     "execution_count": 60,
     "metadata": {},
     "output_type": "execute_result"
    }
   ],
   "source": [
    "Y_true=tf.argmax(true_categories,axis=1)\n",
    "Y_true"
   ]
  },
  {
   "cell_type": "markdown",
   "metadata": {},
   "source": [
    "Calculating Precision recall\n",
    "\n",
    "![image-2.png](attachment:image-2.png)"
   ]
  },
  {
   "cell_type": "code",
   "execution_count": 61,
   "metadata": {},
   "outputs": [],
   "source": [
    "from sklearn.metrics import classification_report,confusion_matrix"
   ]
  },
  {
   "cell_type": "markdown",
   "metadata": {},
   "source": [
    "![image.png](attachment:image.png)"
   ]
  },
  {
   "cell_type": "code",
   "execution_count": 62,
   "metadata": {},
   "outputs": [
    {
     "name": "stdout",
     "output_type": "stream",
     "text": [
      "                                 precision    recall  f1-score   support\n",
      "\n",
      "              Apple___Black_rot       0.97      0.99      0.98       397\n",
      "       Apple___Cedar_apple_rust       0.99      1.00      0.99       352\n",
      "                        complex       0.61      0.38      0.47       320\n",
      "             frog_eye_leaf_spot       0.79      0.95      0.86       636\n",
      "     frog_eye_leaf_spot_complex       0.11      0.03      0.05        33\n",
      "                        healthy       0.95      0.96      0.96      1326\n",
      "                 powdery_mildew       0.87      0.91      0.89       236\n",
      "         powdery_mildew_complex       0.12      0.06      0.08        17\n",
      "                           rust       0.83      0.91      0.87       372\n",
      "                   rust_complex       0.00      0.00      0.00        19\n",
      "        rust_frog_eye_leaf_spot       0.00      0.00      0.00        24\n",
      "                           scab       0.92      0.96      0.94      1368\n",
      "        scab_frog_eye_leaf_spot       0.38      0.26      0.30       137\n",
      "scab_frog_eye_leaf_spot_complex       0.00      0.00      0.00        40\n",
      "\n",
      "                       accuracy                           0.88      5277\n",
      "                      macro avg       0.54      0.53      0.53      5277\n",
      "                   weighted avg       0.86      0.88      0.86      5277\n",
      "\n"
     ]
    },
    {
     "name": "stderr",
     "output_type": "stream",
     "text": [
      "c:\\Users\\abhay\\anaconda3\\envs\\tf\\lib\\site-packages\\sklearn\\metrics\\_classification.py:1517: UndefinedMetricWarning: Precision is ill-defined and being set to 0.0 in labels with no predicted samples. Use `zero_division` parameter to control this behavior.\n",
      "  _warn_prf(average, modifier, f\"{metric.capitalize()} is\", len(result))\n",
      "c:\\Users\\abhay\\anaconda3\\envs\\tf\\lib\\site-packages\\sklearn\\metrics\\_classification.py:1517: UndefinedMetricWarning: Precision is ill-defined and being set to 0.0 in labels with no predicted samples. Use `zero_division` parameter to control this behavior.\n",
      "  _warn_prf(average, modifier, f\"{metric.capitalize()} is\", len(result))\n",
      "c:\\Users\\abhay\\anaconda3\\envs\\tf\\lib\\site-packages\\sklearn\\metrics\\_classification.py:1517: UndefinedMetricWarning: Precision is ill-defined and being set to 0.0 in labels with no predicted samples. Use `zero_division` parameter to control this behavior.\n",
      "  _warn_prf(average, modifier, f\"{metric.capitalize()} is\", len(result))\n"
     ]
    }
   ],
   "source": [
    "print(classification_report(Y_true,predicted_categories,target_names=class_name))"
   ]
  },
  {
   "cell_type": "markdown",
   "metadata": {},
   "source": [
    "        Calculating Confussion Matrix"
   ]
  },
  {
   "cell_type": "code",
   "execution_count": 63,
   "metadata": {},
   "outputs": [
    {
     "data": {
      "text/plain": [
       "array([[ 395,    0,    0,    0,    0,    0,    0,    0,    0,    0,    0,\n",
       "           2,    0,    0],\n",
       "       [   0,  352,    0,    0,    0,    0,    0,    0,    0,    0,    0,\n",
       "           0,    0,    0],\n",
       "       [   2,    0,  121,   73,    7,    5,    0,    2,   28,    0,    0,\n",
       "          35,   35,   12],\n",
       "       [   1,    0,    1,  605,    0,    5,    2,    1,    4,    0,    0,\n",
       "          12,    4,    1],\n",
       "       [   0,    0,   15,   14,    1,    0,    0,    0,    0,    0,    0,\n",
       "           0,    3,    0],\n",
       "       [   2,    1,    0,    2,    0, 1269,   15,    0,    4,    0,    0,\n",
       "          33,    0,    0],\n",
       "       [   0,    0,    1,    1,    0,   10,  215,    2,    2,    0,    0,\n",
       "           5,    0,    0],\n",
       "       [   0,    0,    4,    0,    0,    1,    9,    1,    1,    0,    0,\n",
       "           1,    0,    0],\n",
       "       [   0,    0,    2,    9,    0,    4,    2,    0,  340,    0,    5,\n",
       "          10,    0,    0],\n",
       "       [   0,    0,    4,    3,    0,    1,    0,    0,   10,    0,    0,\n",
       "           0,    1,    0],\n",
       "       [   0,    0,    2,    3,    0,    0,    0,    0,   18,    0,    0,\n",
       "           0,    0,    1],\n",
       "       [   7,    3,    3,    5,    0,   36,    5,    0,    0,    0,    0,\n",
       "        1307,    2,    0],\n",
       "       [   0,    0,   33,   45,    0,    0,    0,    1,    3,    0,    0,\n",
       "          18,   35,    2],\n",
       "       [   0,    1,   11,    9,    1,    0,    0,    1,    0,    0,    0,\n",
       "           4,   13,    0]], dtype=int64)"
      ]
     },
     "execution_count": 63,
     "metadata": {},
     "output_type": "execute_result"
    }
   ],
   "source": [
    "cm=confusion_matrix(Y_true,predicted_categories)\n",
    "cm"
   ]
  },
  {
   "cell_type": "code",
   "execution_count": 64,
   "metadata": {},
   "outputs": [
    {
     "data": {
      "text/plain": [
       "(14, 14)"
      ]
     },
     "execution_count": 64,
     "metadata": {},
     "output_type": "execute_result"
    }
   ],
   "source": [
    "cm.shape"
   ]
  },
  {
   "cell_type": "markdown",
   "metadata": {},
   "source": [
    "                Confusion Matrix Visualization"
   ]
  },
  {
   "cell_type": "code",
   "execution_count": 65,
   "metadata": {},
   "outputs": [
    {
     "data": {
      "image/png": "[encoded data removed]",
      "text/plain": [
       "<Figure size 4000x4000 with 2 Axes>"
      ]
     },
     "metadata": {},
     "output_type": "display_data"
    }
   ],
   "source": [
    "import matplotlib.pyplot as plt\n",
    "from importlib import reload\n",
    "plt = reload(plt)\n",
    "plt.figure(figsize=(40, 40))\n",
    "sns.heatmap(cm, annot=True,annot_kws={'size':10})\n",
    "plt.xlabel(\"Predicted Class\", fontsize=40)\n",
    "plt.ylabel(\"Actual Class\", fontsize=40)\n",
    "plt.title(\"Apple Leaf Disease Prediction Confusion Matrix\", fontsize=45)\n",
    "plt.show()  "
   ]
  }
 ],
 "metadata": {
  "kernelspec": {
   "display_name": "tensor",
   "language": "python",
   "name": "python3"
  },
  "language_info": {
   "codemirror_mode": {
    "name": "ipython",
    "version": 3
   },
   "file_extension": ".py",
   "mimetype": "text/x-python",
   "name": "python",
   "nbconvert_exporter": "python",
   "pygments_lexer": "ipython3",
   "version": "3.9.19"
  }
 },
 "nbformat": 4,
 "nbformat_minor": 2
}
